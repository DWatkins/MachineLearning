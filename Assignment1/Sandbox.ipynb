{
 "cells": [
  {
   "cell_type": "code",
   "execution_count": 35,
   "metadata": {},
   "outputs": [],
   "source": [
    "import pandas as pd\n",
    "import numpy as np\n",
    "import matplotlib.pyplot as plt\n",
    "import os as os\n",
    "import anytree as at\n",
    "import copy as copy"
   ]
  },
  {
   "cell_type": "code",
   "execution_count": 15,
   "metadata": {},
   "outputs": [
    {
     "data": {
      "text/html": [
       "<div>\n",
       "<style scoped>\n",
       "    .dataframe tbody tr th:only-of-type {\n",
       "        vertical-align: middle;\n",
       "    }\n",
       "\n",
       "    .dataframe tbody tr th {\n",
       "        vertical-align: top;\n",
       "    }\n",
       "\n",
       "    .dataframe thead th {\n",
       "        text-align: right;\n",
       "    }\n",
       "</style>\n",
       "<table border=\"1\" class=\"dataframe\">\n",
       "  <thead>\n",
       "    <tr style=\"text-align: right;\">\n",
       "      <th></th>\n",
       "      <th>Is_Malignant</th>\n",
       "      <th>Radius__mean</th>\n",
       "      <th>Texture</th>\n",
       "      <th>Perimeter__mean</th>\n",
       "      <th>Area__mean</th>\n",
       "      <th>Smoothness__mean</th>\n",
       "      <th>Compactness__mean</th>\n",
       "      <th>Concavity__mean</th>\n",
       "      <th>Number_of_Concavities__mean</th>\n",
       "      <th>Symmetry__mean</th>\n",
       "      <th>...</th>\n",
       "      <th>Radius__max</th>\n",
       "      <th>Texture__max</th>\n",
       "      <th>Perimeter__max</th>\n",
       "      <th>Area__max</th>\n",
       "      <th>Smoothness__max</th>\n",
       "      <th>Compactness__max</th>\n",
       "      <th>Concavity__max</th>\n",
       "      <th>Number_of_Concavities__max</th>\n",
       "      <th>Symmetry__max</th>\n",
       "      <th>Factal_Dimension__max</th>\n",
       "    </tr>\n",
       "  </thead>\n",
       "  <tbody>\n",
       "    <tr>\n",
       "      <th>count</th>\n",
       "      <td>455.000000</td>\n",
       "      <td>455.000000</td>\n",
       "      <td>455.000000</td>\n",
       "      <td>455.000000</td>\n",
       "      <td>455.000000</td>\n",
       "      <td>455.000000</td>\n",
       "      <td>455.000000</td>\n",
       "      <td>455.000000</td>\n",
       "      <td>455.000000</td>\n",
       "      <td>455.000000</td>\n",
       "      <td>...</td>\n",
       "      <td>455.000000</td>\n",
       "      <td>455.000000</td>\n",
       "      <td>455.000000</td>\n",
       "      <td>455.000000</td>\n",
       "      <td>455.000000</td>\n",
       "      <td>455.000000</td>\n",
       "      <td>455.000000</td>\n",
       "      <td>455.000000</td>\n",
       "      <td>455.000000</td>\n",
       "      <td>455.000000</td>\n",
       "    </tr>\n",
       "    <tr>\n",
       "      <th>mean</th>\n",
       "      <td>0.367033</td>\n",
       "      <td>14.135820</td>\n",
       "      <td>19.347824</td>\n",
       "      <td>91.973780</td>\n",
       "      <td>656.427033</td>\n",
       "      <td>0.095807</td>\n",
       "      <td>0.102799</td>\n",
       "      <td>0.086659</td>\n",
       "      <td>0.048210</td>\n",
       "      <td>0.180266</td>\n",
       "      <td>...</td>\n",
       "      <td>16.298826</td>\n",
       "      <td>25.863560</td>\n",
       "      <td>107.350813</td>\n",
       "      <td>886.292967</td>\n",
       "      <td>0.132014</td>\n",
       "      <td>0.252614</td>\n",
       "      <td>0.270370</td>\n",
       "      <td>0.114128</td>\n",
       "      <td>0.289856</td>\n",
       "      <td>0.083789</td>\n",
       "    </tr>\n",
       "    <tr>\n",
       "      <th>std</th>\n",
       "      <td>0.482526</td>\n",
       "      <td>3.534752</td>\n",
       "      <td>4.253883</td>\n",
       "      <td>24.317477</td>\n",
       "      <td>357.736626</td>\n",
       "      <td>0.014117</td>\n",
       "      <td>0.051769</td>\n",
       "      <td>0.077347</td>\n",
       "      <td>0.038224</td>\n",
       "      <td>0.027026</td>\n",
       "      <td>...</td>\n",
       "      <td>4.887011</td>\n",
       "      <td>6.131595</td>\n",
       "      <td>33.840523</td>\n",
       "      <td>585.467770</td>\n",
       "      <td>0.023178</td>\n",
       "      <td>0.154909</td>\n",
       "      <td>0.206501</td>\n",
       "      <td>0.065087</td>\n",
       "      <td>0.062523</td>\n",
       "      <td>0.018215</td>\n",
       "    </tr>\n",
       "    <tr>\n",
       "      <th>min</th>\n",
       "      <td>0.000000</td>\n",
       "      <td>7.691000</td>\n",
       "      <td>9.710000</td>\n",
       "      <td>47.920000</td>\n",
       "      <td>170.400000</td>\n",
       "      <td>0.052630</td>\n",
       "      <td>0.019380</td>\n",
       "      <td>0.000000</td>\n",
       "      <td>0.000000</td>\n",
       "      <td>0.106000</td>\n",
       "      <td>...</td>\n",
       "      <td>8.678000</td>\n",
       "      <td>12.020000</td>\n",
       "      <td>54.490000</td>\n",
       "      <td>223.600000</td>\n",
       "      <td>0.081250</td>\n",
       "      <td>0.034320</td>\n",
       "      <td>0.000000</td>\n",
       "      <td>0.000000</td>\n",
       "      <td>0.156500</td>\n",
       "      <td>0.055040</td>\n",
       "    </tr>\n",
       "    <tr>\n",
       "      <th>25%</th>\n",
       "      <td>0.000000</td>\n",
       "      <td>11.725000</td>\n",
       "      <td>16.325000</td>\n",
       "      <td>75.475000</td>\n",
       "      <td>421.700000</td>\n",
       "      <td>0.085345</td>\n",
       "      <td>0.063185</td>\n",
       "      <td>0.028860</td>\n",
       "      <td>0.020365</td>\n",
       "      <td>0.161350</td>\n",
       "      <td>...</td>\n",
       "      <td>13.050000</td>\n",
       "      <td>21.415000</td>\n",
       "      <td>84.385000</td>\n",
       "      <td>515.850000</td>\n",
       "      <td>0.116200</td>\n",
       "      <td>0.145850</td>\n",
       "      <td>0.116750</td>\n",
       "      <td>0.064960</td>\n",
       "      <td>0.248500</td>\n",
       "      <td>0.071250</td>\n",
       "    </tr>\n",
       "    <tr>\n",
       "      <th>50%</th>\n",
       "      <td>0.000000</td>\n",
       "      <td>13.340000</td>\n",
       "      <td>18.890000</td>\n",
       "      <td>86.100000</td>\n",
       "      <td>546.300000</td>\n",
       "      <td>0.095140</td>\n",
       "      <td>0.092180</td>\n",
       "      <td>0.061550</td>\n",
       "      <td>0.033260</td>\n",
       "      <td>0.178800</td>\n",
       "      <td>...</td>\n",
       "      <td>14.910000</td>\n",
       "      <td>25.500000</td>\n",
       "      <td>97.190000</td>\n",
       "      <td>683.400000</td>\n",
       "      <td>0.131200</td>\n",
       "      <td>0.211800</td>\n",
       "      <td>0.226400</td>\n",
       "      <td>0.099100</td>\n",
       "      <td>0.282600</td>\n",
       "      <td>0.080090</td>\n",
       "    </tr>\n",
       "    <tr>\n",
       "      <th>75%</th>\n",
       "      <td>1.000000</td>\n",
       "      <td>15.765000</td>\n",
       "      <td>21.750000</td>\n",
       "      <td>103.650000</td>\n",
       "      <td>781.800000</td>\n",
       "      <td>0.104600</td>\n",
       "      <td>0.129300</td>\n",
       "      <td>0.120400</td>\n",
       "      <td>0.070395</td>\n",
       "      <td>0.196050</td>\n",
       "      <td>...</td>\n",
       "      <td>18.895000</td>\n",
       "      <td>30.080000</td>\n",
       "      <td>126.100000</td>\n",
       "      <td>1091.500000</td>\n",
       "      <td>0.145050</td>\n",
       "      <td>0.332000</td>\n",
       "      <td>0.380250</td>\n",
       "      <td>0.161300</td>\n",
       "      <td>0.319000</td>\n",
       "      <td>0.091965</td>\n",
       "    </tr>\n",
       "    <tr>\n",
       "      <th>max</th>\n",
       "      <td>1.000000</td>\n",
       "      <td>28.110000</td>\n",
       "      <td>33.810000</td>\n",
       "      <td>188.500000</td>\n",
       "      <td>2501.000000</td>\n",
       "      <td>0.163400</td>\n",
       "      <td>0.345400</td>\n",
       "      <td>0.426800</td>\n",
       "      <td>0.201200</td>\n",
       "      <td>0.290600</td>\n",
       "      <td>...</td>\n",
       "      <td>36.040000</td>\n",
       "      <td>49.540000</td>\n",
       "      <td>251.200000</td>\n",
       "      <td>4254.000000</td>\n",
       "      <td>0.222600</td>\n",
       "      <td>1.058000</td>\n",
       "      <td>1.252000</td>\n",
       "      <td>0.291000</td>\n",
       "      <td>0.663800</td>\n",
       "      <td>0.207500</td>\n",
       "    </tr>\n",
       "  </tbody>\n",
       "</table>\n",
       "<p>8 rows × 31 columns</p>\n",
       "</div>"
      ],
      "text/plain": [
       "       Is_Malignant  Radius__mean     Texture  Perimeter__mean   Area__mean  \\\n",
       "count    455.000000    455.000000  455.000000       455.000000   455.000000   \n",
       "mean       0.367033     14.135820   19.347824        91.973780   656.427033   \n",
       "std        0.482526      3.534752    4.253883        24.317477   357.736626   \n",
       "min        0.000000      7.691000    9.710000        47.920000   170.400000   \n",
       "25%        0.000000     11.725000   16.325000        75.475000   421.700000   \n",
       "50%        0.000000     13.340000   18.890000        86.100000   546.300000   \n",
       "75%        1.000000     15.765000   21.750000       103.650000   781.800000   \n",
       "max        1.000000     28.110000   33.810000       188.500000  2501.000000   \n",
       "\n",
       "       Smoothness__mean  Compactness__mean  Concavity__mean  \\\n",
       "count        455.000000         455.000000       455.000000   \n",
       "mean           0.095807           0.102799         0.086659   \n",
       "std            0.014117           0.051769         0.077347   \n",
       "min            0.052630           0.019380         0.000000   \n",
       "25%            0.085345           0.063185         0.028860   \n",
       "50%            0.095140           0.092180         0.061550   \n",
       "75%            0.104600           0.129300         0.120400   \n",
       "max            0.163400           0.345400         0.426800   \n",
       "\n",
       "       Number_of_Concavities__mean  Symmetry__mean          ...            \\\n",
       "count                   455.000000      455.000000          ...             \n",
       "mean                      0.048210        0.180266          ...             \n",
       "std                       0.038224        0.027026          ...             \n",
       "min                       0.000000        0.106000          ...             \n",
       "25%                       0.020365        0.161350          ...             \n",
       "50%                       0.033260        0.178800          ...             \n",
       "75%                       0.070395        0.196050          ...             \n",
       "max                       0.201200        0.290600          ...             \n",
       "\n",
       "       Radius__max  Texture__max  Perimeter__max    Area__max  \\\n",
       "count   455.000000    455.000000      455.000000   455.000000   \n",
       "mean     16.298826     25.863560      107.350813   886.292967   \n",
       "std       4.887011      6.131595       33.840523   585.467770   \n",
       "min       8.678000     12.020000       54.490000   223.600000   \n",
       "25%      13.050000     21.415000       84.385000   515.850000   \n",
       "50%      14.910000     25.500000       97.190000   683.400000   \n",
       "75%      18.895000     30.080000      126.100000  1091.500000   \n",
       "max      36.040000     49.540000      251.200000  4254.000000   \n",
       "\n",
       "       Smoothness__max  Compactness__max  Concavity__max  \\\n",
       "count       455.000000        455.000000      455.000000   \n",
       "mean          0.132014          0.252614        0.270370   \n",
       "std           0.023178          0.154909        0.206501   \n",
       "min           0.081250          0.034320        0.000000   \n",
       "25%           0.116200          0.145850        0.116750   \n",
       "50%           0.131200          0.211800        0.226400   \n",
       "75%           0.145050          0.332000        0.380250   \n",
       "max           0.222600          1.058000        1.252000   \n",
       "\n",
       "       Number_of_Concavities__max  Symmetry__max  Factal_Dimension__max  \n",
       "count                  455.000000     455.000000             455.000000  \n",
       "mean                     0.114128       0.289856               0.083789  \n",
       "std                      0.065087       0.062523               0.018215  \n",
       "min                      0.000000       0.156500               0.055040  \n",
       "25%                      0.064960       0.248500               0.071250  \n",
       "50%                      0.099100       0.282600               0.080090  \n",
       "75%                      0.161300       0.319000               0.091965  \n",
       "max                      0.291000       0.663800               0.207500  \n",
       "\n",
       "[8 rows x 31 columns]"
      ]
     },
     "execution_count": 15,
     "metadata": {},
     "output_type": "execute_result"
    }
   ],
   "source": [
    "td = pd.read_csv('cancer_datasets_v2/training_2.csv')\n",
    "td.describe()"
   ]
  },
  {
   "cell_type": "code",
   "execution_count": 102,
   "metadata": {},
   "outputs": [
    {
     "data": {
      "text/plain": [
       "1"
      ]
     },
     "execution_count": 102,
     "metadata": {},
     "output_type": "execute_result"
    }
   ],
   "source": [
    "ind = [0,4]\n",
    "td.iloc[ind][td.columns[0]].value_counts().size"
   ]
  },
  {
   "cell_type": "code",
   "execution_count": 126,
   "metadata": {},
   "outputs": [
    {
     "name": "stdout",
     "output_type": "stream",
     "text": [
      "Radius__mean\n",
      "Texture\n",
      "Perimeter__mean\n",
      "Area__mean\n",
      "Smoothness__mean\n",
      "Compactness__mean\n",
      "Concavity__mean\n",
      "Number_of_Concavities__mean\n",
      "Symmetry__mean\n",
      "Factal_Dimension__mean\n",
      "Radius__stddev\n",
      "Texture__stddev\n",
      "Perimeter__stddev\n",
      "Area__stddev\n",
      "Smoothness__stddev\n",
      "Compactness__stddev\n",
      "Concavity__stddev\n",
      "Number_of_Concavities__stddev\n",
      "Symmetry__stddev\n",
      "Factal_Dimension__stddev\n",
      "Radius__max\n",
      "Texture__max\n",
      "Perimeter__max\n",
      "Area__max\n",
      "Smoothness__max\n",
      "Compactness__max\n",
      "Concavity__max\n",
      "Number_of_Concavities__max\n",
      "Symmetry__max\n",
      "Factal_Dimension__max\n"
     ]
    }
   ],
   "source": [
    "label = td.columns[0]\n",
    "features = td.columns[1:]\n",
    "td[td.columns[0]].value_counts().index[1]\n",
    "\n",
    "for feature in features:\n",
    "    print(feature)"
   ]
  },
  {
   "cell_type": "code",
   "execution_count": 27,
   "metadata": {},
   "outputs": [],
   "source": [
    "udo = at.Node('Udo')\n",
    "marc = at.Node('Marc', parent=udo)\n",
    "lian = at.Node('Lian', parent=marc)\n"
   ]
  },
  {
   "cell_type": "code",
   "execution_count": 30,
   "metadata": {},
   "outputs": [
    {
     "name": "stdout",
     "output_type": "stream",
     "text": [
      "Udo\n",
      "Udo\n",
      "└── Marc\n",
      "    └── Lian\n"
     ]
    }
   ],
   "source": [
    "udoCopy = copy.deepcopy(udo)\n",
    "marc.parent = None\n",
    "for pre, fill, node in RenderTree(udo):\n",
    "    print(\"%s%s\" % (pre, node.name))\n",
    "for pre, fill, node in RenderTree(udoCopy):\n",
    "    print(\"%s%s\" % (pre, node.name))"
   ]
  },
  {
   "cell_type": "code",
   "execution_count": 75,
   "metadata": {},
   "outputs": [],
   "source": [
    "# must run `sudo apt install graphviz`, not `pip install graphviz` beforehand\n",
    "at.exporter.dotexporter.DotExporter(udo).to_picture('udo.png')"
   ]
  },
  {
   "cell_type": "code",
   "execution_count": 29,
   "metadata": {},
   "outputs": [],
   "source": [
    "from anytree import Node, RenderTree\n",
    "class DTCNode(Node):\n",
    "    def __init__(self, name, length, width, parent=None):\n",
    "        self.name = name\n",
    "        self.length = length\n",
    "        self.width = width\n",
    "        self.parent = parent\n",
    "    def _pre_detach(self, parent):\n",
    "        print(\"_pre_detach\", parent)\n",
    "    def _post_detach(self, parent):\n",
    "        print(\"_post_detach\", parent)\n",
    "    def _pre_attach(self, parent):\n",
    "        print(\"_pre_attach\", parent)\n",
    "    def _post_attach(self, parent):\n",
    "        print(\"_post_attach\", parent)"
   ]
  },
  {
   "cell_type": "code",
   "execution_count": 69,
   "metadata": {},
   "outputs": [
    {
     "name": "stdout",
     "output_type": "stream",
     "text": [
      "_pre_attach DTCNode('/Root\\nCompactness_mean <= 0.1', length=0, width=0)\n",
      "_post_attach DTCNode('/Root\\nCompactness_mean <= 0.1', length=0, width=0)\n",
      "_pre_attach DTCNode('/Root\\nCompactness_mean <= 0.1', length=0, width=0)\n",
      "_post_attach DTCNode('/Root\\nCompactness_mean <= 0.1', length=0, width=0)\n",
      "_pre_attach DTCNode('/Root\\nCompactness_mean <= 0.1/No\\nPerimeter_mean <= 90.1', length=0, width=0)\n",
      "_post_attach DTCNode('/Root\\nCompactness_mean <= 0.1/No\\nPerimeter_mean <= 90.1', length=0, width=0)\n",
      "_pre_attach DTCNode('/Root\\nCompactness_mean <= 0.1/No\\nPerimeter_mean <= 90.1', length=0, width=0)\n",
      "_post_attach DTCNode('/Root\\nCompactness_mean <= 0.1/No\\nPerimeter_mean <= 90.1', length=0, width=0)\n",
      "_pre_attach DTCNode('/Root\\nCompactness_mean <= 0.1/Yes\\nSmoothness_mean <= 0.09', length=0, width=2)\n",
      "_post_attach DTCNode('/Root\\nCompactness_mean <= 0.1/Yes\\nSmoothness_mean <= 0.09', length=0, width=2)\n",
      "_pre_attach DTCNode('/Root\\nCompactness_mean <= 0.1/Yes\\nSmoothness_mean <= 0.09', length=0, width=2)\n",
      "_post_attach DTCNode('/Root\\nCompactness_mean <= 0.1/Yes\\nSmoothness_mean <= 0.09', length=0, width=2)\n",
      "_pre_attach DTCNode('/Root\\nCompactness_mean <= 0.1/Yes\\nSmoothness_mean <= 0.09/Yes', length=1, width=0)\n",
      "_post_attach DTCNode('/Root\\nCompactness_mean <= 0.1/Yes\\nSmoothness_mean <= 0.09/Yes', length=1, width=0)\n"
     ]
    }
   ],
   "source": [
    "n0 = DTCNode('Root\\nCompactness_mean <= 0.1', 0, 0)\n",
    "n1 = DTCNode('No\\nPerimeter_mean <= 90.1', 0,0, parent=n0)\n",
    "n2 = DTCNode('Yes\\nSmoothness_mean <= 0.09', 0, 2, parent=n0)\n",
    "n3 = DTCNode(\"No\", 0,0,parent=n1)\n",
    "n4 = DTCNode(\"Yes\", 0,0,parent=n1)\n",
    "n5 = DTCNode(\"No\", 1,0,parent=n2)\n",
    "n6 = DTCNode(\"Yes\", 1,0,parent=n2)\n",
    "n7 = DTCNode(\"Uh-Oh\", 1,0, parent=n6)"
   ]
  },
  {
   "cell_type": "code",
   "execution_count": 55,
   "metadata": {},
   "outputs": [
    {
     "name": "stdout",
     "output_type": "stream",
     "text": [
      "n0       0 0\n",
      "├── n\n",
      "1  1 0\n",
      "└── n1   0 2\n"
     ]
    }
   ],
   "source": [
    "for pre, _, node in RenderTree(n0):\n",
    "...     treestr = u\"%s%s\" % (pre, node.name)\n",
    "...     print(treestr.ljust(8), node.length, node.width)"
   ]
  },
  {
   "cell_type": "code",
   "execution_count": 70,
   "metadata": {},
   "outputs": [],
   "source": [
    "at.exporter.dotexporter.DotExporter(n0).to_picture('n0.png')"
   ]
  },
  {
   "cell_type": "code",
   "execution_count": 50,
   "metadata": {},
   "outputs": [],
   "source": [
    "n0.parent=None"
   ]
  },
  {
   "cell_type": "code",
   "execution_count": 51,
   "metadata": {},
   "outputs": [
    {
     "name": "stdout",
     "output_type": "stream",
     "text": [
      "_pre_detach DTCNode('/n0', length=0, width=0)\n",
      "_post_detach DTCNode('/n0', length=0, width=0)\n"
     ]
    }
   ],
   "source": [
    "n1.parent=None"
   ]
  },
  {
   "cell_type": "code",
   "execution_count": 132,
   "metadata": {},
   "outputs": [
    {
     "data": {
      "text/html": [
       "<div>\n",
       "<style scoped>\n",
       "    .dataframe tbody tr th:only-of-type {\n",
       "        vertical-align: middle;\n",
       "    }\n",
       "\n",
       "    .dataframe tbody tr th {\n",
       "        vertical-align: top;\n",
       "    }\n",
       "\n",
       "    .dataframe thead th {\n",
       "        text-align: right;\n",
       "    }\n",
       "</style>\n",
       "<table border=\"1\" class=\"dataframe\">\n",
       "  <thead>\n",
       "    <tr style=\"text-align: right;\">\n",
       "      <th></th>\n",
       "      <th>col1</th>\n",
       "      <th>col2</th>\n",
       "      <th>col3</th>\n",
       "    </tr>\n",
       "  </thead>\n",
       "  <tbody>\n",
       "    <tr>\n",
       "      <th>1</th>\n",
       "      <td>A</td>\n",
       "      <td>1</td>\n",
       "      <td>1</td>\n",
       "    </tr>\n",
       "    <tr>\n",
       "      <th>0</th>\n",
       "      <td>A</td>\n",
       "      <td>2</td>\n",
       "      <td>0</td>\n",
       "    </tr>\n",
       "    <tr>\n",
       "      <th>5</th>\n",
       "      <td>C</td>\n",
       "      <td>4</td>\n",
       "      <td>3</td>\n",
       "    </tr>\n",
       "    <tr>\n",
       "      <th>4</th>\n",
       "      <td>D</td>\n",
       "      <td>7</td>\n",
       "      <td>2</td>\n",
       "    </tr>\n",
       "    <tr>\n",
       "      <th>3</th>\n",
       "      <td>NaN</td>\n",
       "      <td>8</td>\n",
       "      <td>4</td>\n",
       "    </tr>\n",
       "    <tr>\n",
       "      <th>2</th>\n",
       "      <td>B</td>\n",
       "      <td>9</td>\n",
       "      <td>9</td>\n",
       "    </tr>\n",
       "  </tbody>\n",
       "</table>\n",
       "</div>"
      ],
      "text/plain": [
       "  col1  col2  col3\n",
       "1    A     1     1\n",
       "0    A     2     0\n",
       "5    C     4     3\n",
       "4    D     7     2\n",
       "3  NaN     8     4\n",
       "2    B     9     9"
      ]
     },
     "execution_count": 132,
     "metadata": {},
     "output_type": "execute_result"
    }
   ],
   "source": [
    "df = pd.DataFrame({\n",
    "...     'col1' : ['A', 'A', 'B', np.nan, 'D', 'C'],\n",
    "...     'col2' : [2, 1, 9, 8, 7, 4],\n",
    "...     'col3': [0, 1, 9, 4, 2, 3],\n",
    "... })\n",
    "df.sort_values(by=['col2'])"
   ]
  },
  {
   "cell_type": "code",
   "execution_count": 7,
   "metadata": {},
   "outputs": [
    {
     "name": "stdout",
     "output_type": "stream",
     "text": [
      "0.04938424432441281\n",
      "0.01098867555935401\n"
     ]
    }
   ],
   "source": [
    "print(-(1/181)*np.log2(1/181) - (180/181)*np.log2(180/181))\n",
    "print(1 - np.square(1/181) - np.square(180/181))"
   ]
  },
  {
   "cell_type": "code",
   "execution_count": 17,
   "metadata": {},
   "outputs": [
    {
     "data": {
      "text/plain": [
       "<matplotlib.axes._subplots.AxesSubplot at 0x7f2aa30b3358>"
      ]
     },
     "execution_count": 17,
     "metadata": {},
     "output_type": "execute_result"
    },
    {
     "data": {
      "image/png": "[encoded data removed]",
      "text/plain": [
       "<Figure size 432x288 with 1 Axes>"
      ]
     },
     "metadata": {
      "needs_background": "light"
     },
     "output_type": "display_data"
    }
   ],
   "source": [
    "ts = pd.Series(np.random.randn(1000), index=pd.date_range('1/1/2000', periods=1000))\n",
    "ts = ts.cumsum()\n",
    "ts.plot()"
   ]
  },
  {
   "cell_type": "code",
   "execution_count": 21,
   "metadata": {},
   "outputs": [
    {
     "name": "stderr",
     "output_type": "stream",
     "text": [
      "/home/jeb/anaconda3/lib/python3.7/site-packages/pandas/core/indexes/api.py:107: RuntimeWarning: '<' not supported between instances of 'str' and 'int', sort order is undefined for incomparable objects\n",
      "  result = result.union(other)\n"
     ]
    },
    {
     "data": {
      "text/html": [
       "<div>\n",
       "<style scoped>\n",
       "    .dataframe tbody tr th:only-of-type {\n",
       "        vertical-align: middle;\n",
       "    }\n",
       "\n",
       "    .dataframe tbody tr th {\n",
       "        vertical-align: top;\n",
       "    }\n",
       "\n",
       "    .dataframe thead th {\n",
       "        text-align: right;\n",
       "    }\n",
       "</style>\n",
       "<table border=\"1\" class=\"dataframe\">\n",
       "  <thead>\n",
       "    <tr style=\"text-align: right;\">\n",
       "      <th></th>\n",
       "      <th>Number of Leaf Nodes</th>\n",
       "      <th>Training Accuracy</th>\n",
       "      <th>Validation Accuracy</th>\n",
       "      <th>Test Accuracy</th>\n",
       "      <th>0</th>\n",
       "    </tr>\n",
       "  </thead>\n",
       "  <tbody>\n",
       "    <tr>\n",
       "      <th>0</th>\n",
       "      <td>NaN</td>\n",
       "      <td>NaN</td>\n",
       "      <td>NaN</td>\n",
       "      <td>NaN</td>\n",
       "      <td>10.00</td>\n",
       "    </tr>\n",
       "    <tr>\n",
       "      <th>1</th>\n",
       "      <td>NaN</td>\n",
       "      <td>NaN</td>\n",
       "      <td>NaN</td>\n",
       "      <td>NaN</td>\n",
       "      <td>0.99</td>\n",
       "    </tr>\n",
       "    <tr>\n",
       "      <th>2</th>\n",
       "      <td>NaN</td>\n",
       "      <td>NaN</td>\n",
       "      <td>NaN</td>\n",
       "      <td>NaN</td>\n",
       "      <td>0.98</td>\n",
       "    </tr>\n",
       "    <tr>\n",
       "      <th>3</th>\n",
       "      <td>NaN</td>\n",
       "      <td>NaN</td>\n",
       "      <td>NaN</td>\n",
       "      <td>NaN</td>\n",
       "      <td>0.94</td>\n",
       "    </tr>\n",
       "  </tbody>\n",
       "</table>\n",
       "</div>"
      ],
      "text/plain": [
       "  Number of Leaf Nodes Training Accuracy Validation Accuracy Test Accuracy  \\\n",
       "0                  NaN               NaN                 NaN           NaN   \n",
       "1                  NaN               NaN                 NaN           NaN   \n",
       "2                  NaN               NaN                 NaN           NaN   \n",
       "3                  NaN               NaN                 NaN           NaN   \n",
       "\n",
       "       0  \n",
       "0  10.00  \n",
       "1   0.99  \n",
       "2   0.98  \n",
       "3   0.94  "
      ]
     },
     "execution_count": 21,
     "metadata": {},
     "output_type": "execute_result"
    }
   ],
   "source": [
    "pruningData = pd.DataFrame(columns=['Number of Leaf Nodes',\n",
    "                                    'Training Accuracy',\n",
    "                                    'Validation Accuracy',\n",
    "                                    'Test Accuracy'])\n",
    "pruningData.describe()\n",
    "pruningData.append([10, .99, .98, .94])"
   ]
  },
  {
   "cell_type": "code",
   "execution_count": 32,
   "metadata": {},
   "outputs": [
    {
     "data": {
      "text/html": [
       "<div>\n",
       "<style scoped>\n",
       "    .dataframe tbody tr th:only-of-type {\n",
       "        vertical-align: middle;\n",
       "    }\n",
       "\n",
       "    .dataframe tbody tr th {\n",
       "        vertical-align: top;\n",
       "    }\n",
       "\n",
       "    .dataframe thead th {\n",
       "        text-align: right;\n",
       "    }\n",
       "</style>\n",
       "<table border=\"1\" class=\"dataframe\">\n",
       "  <thead>\n",
       "    <tr style=\"text-align: right;\">\n",
       "      <th></th>\n",
       "      <th>col1</th>\n",
       "      <th>col2</th>\n",
       "    </tr>\n",
       "  </thead>\n",
       "  <tbody>\n",
       "    <tr>\n",
       "      <th>0</th>\n",
       "      <td>a</td>\n",
       "      <td>b</td>\n",
       "    </tr>\n",
       "    <tr>\n",
       "      <th>1</th>\n",
       "      <td>e</td>\n",
       "      <td>f</td>\n",
       "    </tr>\n",
       "  </tbody>\n",
       "</table>\n",
       "</div>"
      ],
      "text/plain": [
       "  col1 col2\n",
       "0    a    b\n",
       "1    e    f"
      ]
     },
     "execution_count": 32,
     "metadata": {},
     "output_type": "execute_result"
    }
   ],
   "source": [
    "list=[['a','b']]\n",
    "list.append(['e','f'])\n",
    "df=pd.DataFrame(list,columns=['col1','col2'])\n",
    "df.head()"
   ]
  },
  {
   "cell_type": "code",
   "execution_count": 33,
   "metadata": {},
   "outputs": [
    {
     "data": {
      "text/html": [
       "<div>\n",
       "<style scoped>\n",
       "    .dataframe tbody tr th:only-of-type {\n",
       "        vertical-align: middle;\n",
       "    }\n",
       "\n",
       "    .dataframe tbody tr th {\n",
       "        vertical-align: top;\n",
       "    }\n",
       "\n",
       "    .dataframe thead th {\n",
       "        text-align: right;\n",
       "    }\n",
       "</style>\n",
       "<table border=\"1\" class=\"dataframe\">\n",
       "  <thead>\n",
       "    <tr style=\"text-align: right;\">\n",
       "      <th></th>\n",
       "      <th>a</th>\n",
       "      <th>b</th>\n",
       "    </tr>\n",
       "  </thead>\n",
       "  <tbody>\n",
       "  </tbody>\n",
       "</table>\n",
       "</div>"
      ],
      "text/plain": [
       "Empty DataFrame\n",
       "Columns: [a, b]\n",
       "Index: []"
      ]
     },
     "execution_count": 33,
     "metadata": {},
     "output_type": "execute_result"
    }
   ],
   "source": [
    "df = pd.DataFrame(columns=['a', 'b'])\n",
    "df"
   ]
  },
  {
   "cell_type": "code",
   "execution_count": 68,
   "metadata": {},
   "outputs": [
    {
     "name": "stdout",
     "output_type": "stream",
     "text": [
      "[1. 1. 1. 1. 1. 1. 1. 1. 1. 1.]\n"
     ]
    }
   ],
   "source": [
    "a = np.ones((10))\n",
    "b = np.zeros((10))\n",
    "df = pd.DataFrame({'a':a, 'b':b})\n",
    "print(a)\n"
   ]
  }
 ],
 "metadata": {
  "kernelspec": {
   "display_name": "Python 3",
   "language": "python",
   "name": "python3"
  },
  "language_info": {
   "codemirror_mode": {
    "name": "ipython",
    "version": 3
   },
   "file_extension": ".py",
   "mimetype": "text/x-python",
   "name": "python",
   "nbconvert_exporter": "python",
   "pygments_lexer": "ipython3",
   "version": "3.7.0"
  }
 },
 "nbformat": 4,
 "nbformat_minor": 2
}
